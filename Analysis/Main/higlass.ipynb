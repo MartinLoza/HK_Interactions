{
 "cells": [
  {
   "cell_type": "markdown",
   "metadata": {},
   "source": [
    "In this notebook I would like to start using HiGlass to visualize my data"
   ]
  },
  {
   "cell_type": "code",
   "execution_count": 1,
   "metadata": {},
   "outputs": [],
   "source": [
    "import higlass as hg"
   ]
  },
  {
   "cell_type": "code",
   "execution_count": 5,
   "metadata": {},
   "outputs": [],
   "source": [
    "#Path to mean hic\n",
    "mean_path =\"/mnt/c/Users/Marti/Documents/Projects/HK_Interactions/Analysis/2023_12/2023_12_26/Results/cooler/average.mcool\"\n",
    "# mean_path =\"/mnt/c/Users/Marti/Documents/Projects/HK_Interactions/Data/HiC/4DN_portal/average/04_mcool/average.mcool\"\n",
    "#Path to other hic\n",
    "# raw_path = \"/mnt/c/Users/Marti/Documents/Projects/HK_Interactions/Data/HiC/4DN_portal/raw/4DNFII4IPDTR.mcool\"\n",
    "raw_path = \"/mnt/c/Users/Marti/Documents/Projects/HK_Interactions/Data/HiC/4DN_portal/average/04_mcool/average_3.mcool\"\n",
    "\n",
    "# create tileset average\n",
    "mean_hg = hg.cooler(mean_path)\n",
    "# create tileset raw\n",
    "raw_hg = hg.cooler(raw_path)"
   ]
  },
  {
   "cell_type": "code",
   "execution_count": 6,
   "metadata": {},
   "outputs": [],
   "source": [
    "# Create a `hg.HeatmapTrack` for the average\n",
    "mean_track = mean_hg.track(\"heatmap\")\n",
    "# Create a `hg.HeatmapTrack` for the raw\n",
    "raw_track = raw_hg.track(\"heatmap\")\n",
    "\n",
    "#view the track\n",
    "view_mean = hg.view(mean_track, width=6, height=6)\n",
    "view_raw = hg.view(raw_track, width=6, height=6)\n"
   ]
  },
  {
   "cell_type": "code",
   "execution_count": 4,
   "metadata": {},
   "outputs": [
    {
     "data": {
      "text/html": [
       "\n",
       "<!DOCTYPE html>\n",
       "<html>\n",
       "  <head>\n",
       "    <link rel=\"stylesheet\" href=\"https://esm.sh/higlass@1.12/dist/hglib.css\">\n",
       "    <script src=\"https://unpkg.com/requirejs-toggle\"></script>\n",
       "    \n",
       "    <script src=\"https://unpkg.com/requirejs-toggle\"></script>\n",
       "  </head>\n",
       "  <body>\n",
       "    <div id=\"jupyter-hg-bf1c01741dc44e348d34b81aea8c3e4b\"></div>\n",
       "  </body>\n",
       "  <script type=\"module\">\n",
       "    import hglib from \"https://esm.sh/higlass@1.12?deps=react@17,react-dom@17,pixi.js@6\";\n",
       "    hglib.viewer(\n",
       "      document.getElementById('jupyter-hg-bf1c01741dc44e348d34b81aea8c3e4b'),\n",
       "      {\"editable\": true, \"viewEditable\": true, \"tracksEditable\": true, \"views\": [{\"layout\": {\"x\": 0, \"y\": 0, \"w\": 6, \"h\": 6}, \"tracks\": {\"center\": [{\"tilesetUid\": \"1555a5bb1783357127d969519cfc96ea\", \"server\": \"http://localhost:39685/tilesets/api/v1/\", \"type\": \"heatmap\", \"uid\": \"d90b8475-b45b-4895-b17e-0ce7fa230f61\"}]}, \"uid\": \"39df0285-d854-4ab3-b089-adaf88bdaa29\", \"zoomLimits\": [1, null]}]},\n",
       "    );\n",
       "    </script>\n",
       "</html>"
      ],
      "text/plain": [
       "View(layout=Layout(x=0, y=0, w=6, h=6, moved=None, static=None), tracks=Tracks[TrackT](left=None, right=None, top=None, bottom=None, center=[HeatmapTrack(tilesetUid='1555a5bb1783357127d969519cfc96ea', server='http://localhost:39685/tilesets/api/v1/', type='heatmap', uid='d90b8475-b45b-4895-b17e-0ce7fa230f61', width=None, height=None, options=None, data=None, position=None, transforms=None)], whole=None, gallery=None), uid='39df0285-d854-4ab3-b089-adaf88bdaa29', autocompleteSource=None, chromInfoPath=None, genomePositionSearchBox=None, genomePositionSearchBoxVisible=None, initialXDomain=None, initialYDomain=None, overlays=None, selectionView=None, zoomFixed=None, zoomLimits=(1, None))"
      ]
     },
     "execution_count": 4,
     "metadata": {},
     "output_type": "execute_result"
    }
   ],
   "source": [
    "view_mean"
   ]
  },
  {
   "cell_type": "code",
   "execution_count": 8,
   "metadata": {},
   "outputs": [
    {
     "data": {
      "text/html": [
       "\n",
       "<!DOCTYPE html>\n",
       "<html>\n",
       "  <head>\n",
       "    <link rel=\"stylesheet\" href=\"https://esm.sh/higlass@1.12/dist/hglib.css\">\n",
       "    <script src=\"https://unpkg.com/requirejs-toggle\"></script>\n",
       "    \n",
       "    <script src=\"https://unpkg.com/requirejs-toggle\"></script>\n",
       "  </head>\n",
       "  <body>\n",
       "    <div id=\"jupyter-hg-71a29ff7cd27412c83233841328ea033\"></div>\n",
       "  </body>\n",
       "  <script type=\"module\">\n",
       "    import hglib from \"https://esm.sh/higlass@1.12?deps=react@17,react-dom@17,pixi.js@6\";\n",
       "    hglib.viewer(\n",
       "      document.getElementById('jupyter-hg-71a29ff7cd27412c83233841328ea033'),\n",
       "      {\"editable\": true, \"viewEditable\": true, \"tracksEditable\": true, \"views\": [{\"layout\": {\"x\": 0, \"y\": 0, \"w\": 6, \"h\": 6}, \"tracks\": {\"center\": [{\"tilesetUid\": \"150ed27440fefbbec80f4f5a9364677f\", \"server\": \"http://localhost:43347/tilesets/api/v1/\", \"type\": \"heatmap\", \"uid\": \"4034f096-d275-4f27-a13f-a1e4b0ac0503\"}]}, \"uid\": \"b2b978ab-7b1e-42bb-8e2a-3829996bbb8e\", \"zoomLimits\": [1.0, null]}, {\"layout\": {\"x\": 6, \"y\": 0, \"w\": 6, \"h\": 6}, \"tracks\": {\"center\": [{\"tilesetUid\": \"5c30c30670f9d1d101194e1eac328bd2\", \"server\": \"http://localhost:43347/tilesets/api/v1/\", \"type\": \"heatmap\", \"uid\": \"e5b2292f-8ba5-4702-83bf-b8793933e117\"}]}, \"uid\": \"669798bb-73a1-4abf-844d-c1aee518dfa3\", \"zoomLimits\": [1.0, null]}], \"zoomLocks\": {\"locksByViewUid\": {\"b2b978ab-7b1e-42bb-8e2a-3829996bbb8e\": \"9c5b976c-e891-453b-a6b4-2a91e1c4caa2\", \"669798bb-73a1-4abf-844d-c1aee518dfa3\": \"9c5b976c-e891-453b-a6b4-2a91e1c4caa2\"}, \"locksDict\": {\"9c5b976c-e891-453b-a6b4-2a91e1c4caa2\": {\"uid\": \"9c5b976c-e891-453b-a6b4-2a91e1c4caa2\", \"b2b978ab-7b1e-42bb-8e2a-3829996bbb8e\": [1.0, 1.0, 1.0], \"669798bb-73a1-4abf-844d-c1aee518dfa3\": [1.0, 1.0, 1.0]}}}, \"locationLocks\": {\"locksByViewUid\": {\"b2b978ab-7b1e-42bb-8e2a-3829996bbb8e\": \"9c5b976c-e891-453b-a6b4-2a91e1c4caa2\", \"669798bb-73a1-4abf-844d-c1aee518dfa3\": \"9c5b976c-e891-453b-a6b4-2a91e1c4caa2\"}, \"locksDict\": {\"9c5b976c-e891-453b-a6b4-2a91e1c4caa2\": {\"uid\": \"9c5b976c-e891-453b-a6b4-2a91e1c4caa2\", \"b2b978ab-7b1e-42bb-8e2a-3829996bbb8e\": [1.0, 1.0, 1.0], \"669798bb-73a1-4abf-844d-c1aee518dfa3\": [1.0, 1.0, 1.0]}}}, \"valueScaleLocks\": {\"locksByViewUid\": {}, \"locksDict\": {}}},\n",
       "    );\n",
       "    </script>\n",
       "</html>"
      ],
      "text/plain": [
       "Viewconf(editable=True, viewEditable=True, tracksEditable=True, zoomFixed=None, compactLayout=None, exportViewUrl=None, trackSourceServers=None, views=[View(layout=Layout(x=0, y=0, w=6, h=6, moved=None, static=None), tracks=Tracks[TrackT](left=None, right=None, top=None, bottom=None, center=[HeatmapTrack(tilesetUid='150ed27440fefbbec80f4f5a9364677f', server='http://localhost:43347/tilesets/api/v1/', type='heatmap', uid='4034f096-d275-4f27-a13f-a1e4b0ac0503', width=None, height=None, options=None, data=None, position=None, transforms=None)], whole=None, gallery=None), uid='b2b978ab-7b1e-42bb-8e2a-3829996bbb8e', autocompleteSource=None, chromInfoPath=None, genomePositionSearchBox=None, genomePositionSearchBoxVisible=None, initialXDomain=None, initialYDomain=None, overlays=None, selectionView=None, zoomFixed=None, zoomLimits=(1.0, None)), View(layout=Layout(x=6, y=0, w=6, h=6, moved=None, static=None), tracks=Tracks[TrackT](left=None, right=None, top=None, bottom=None, center=[HeatmapTrack(tilesetUid='5c30c30670f9d1d101194e1eac328bd2', server='http://localhost:43347/tilesets/api/v1/', type='heatmap', uid='e5b2292f-8ba5-4702-83bf-b8793933e117', width=None, height=None, options=None, data=None, position=None, transforms=None)], whole=None, gallery=None), uid='669798bb-73a1-4abf-844d-c1aee518dfa3', autocompleteSource=None, chromInfoPath=None, genomePositionSearchBox=None, genomePositionSearchBoxVisible=None, initialXDomain=None, initialYDomain=None, overlays=None, selectionView=None, zoomFixed=None, zoomLimits=(1.0, None))], zoomLocks=ZoomLocks(locksByViewUid={'b2b978ab-7b1e-42bb-8e2a-3829996bbb8e': '9c5b976c-e891-453b-a6b4-2a91e1c4caa2', '669798bb-73a1-4abf-844d-c1aee518dfa3': '9c5b976c-e891-453b-a6b4-2a91e1c4caa2'}, locksDict={'9c5b976c-e891-453b-a6b4-2a91e1c4caa2': Lock(uid='9c5b976c-e891-453b-a6b4-2a91e1c4caa2', b2b978ab-7b1e-42bb-8e2a-3829996bbb8e=(1.0, 1.0, 1.0), 669798bb-73a1-4abf-844d-c1aee518dfa3=(1.0, 1.0, 1.0))}), locationLocks=LocationLocks(locksByViewUid={'b2b978ab-7b1e-42bb-8e2a-3829996bbb8e': '9c5b976c-e891-453b-a6b4-2a91e1c4caa2', '669798bb-73a1-4abf-844d-c1aee518dfa3': '9c5b976c-e891-453b-a6b4-2a91e1c4caa2'}, locksDict={'9c5b976c-e891-453b-a6b4-2a91e1c4caa2': Lock(uid='9c5b976c-e891-453b-a6b4-2a91e1c4caa2', b2b978ab-7b1e-42bb-8e2a-3829996bbb8e=(1.0, 1.0, 1.0), 669798bb-73a1-4abf-844d-c1aee518dfa3=(1.0, 1.0, 1.0))}), valueScaleLocks=ValueScaleLocks(locksByViewUid={}, locksDict={}), chromInfoPath=None)"
      ]
     },
     "execution_count": 8,
     "metadata": {},
     "output_type": "execute_result"
    }
   ],
   "source": [
    "# Lock zoom & location for each `View`\n",
    "view_lock = hg.lock(view_mean, view_raw)\n",
    "\n",
    "# Concatenate views horizontally and apply synchronization lock\n",
    "(view_mean | view_raw).locks(view_lock)"
   ]
  }
 ],
 "metadata": {
  "kernelspec": {
   "display_name": "Python 3 (ipykernel)",
   "language": "python",
   "name": "python3"
  },
  "language_info": {
   "codemirror_mode": {
    "name": "ipython",
    "version": 3
   },
   "file_extension": ".py",
   "mimetype": "text/x-python",
   "name": "python",
   "nbconvert_exporter": "python",
   "pygments_lexer": "ipython3",
   "version": "3.11.7"
  },
  "varInspector": {
   "cols": {
    "lenName": 16,
    "lenType": 16,
    "lenVar": 40
   },
   "kernels_config": {
    "python": {
     "delete_cmd_postfix": "",
     "delete_cmd_prefix": "del ",
     "library": "var_list.py",
     "varRefreshCmd": "print(var_dic_list())"
    },
    "r": {
     "delete_cmd_postfix": ") ",
     "delete_cmd_prefix": "rm(",
     "library": "var_list.r",
     "varRefreshCmd": "cat(var_dic_list()) "
    }
   },
   "types_to_exclude": [
    "module",
    "function",
    "builtin_function_or_method",
    "instance",
    "_Feature"
   ],
   "window_display": false
  }
 },
 "nbformat": 4,
 "nbformat_minor": 2
}
