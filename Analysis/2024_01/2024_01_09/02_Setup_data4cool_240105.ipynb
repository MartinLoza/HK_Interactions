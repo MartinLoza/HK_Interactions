{
 "cells": [
  {
   "cell_type": "markdown",
   "metadata": {},
   "source": [
    "Martin Loza\n",
    "\n",
    "24/01/04\n",
    "\n",
    "In this workflow I will setup the current average matrices to transform them into cool and mcool file with cooler package."
   ]
  },
  {
   "cell_type": "code",
   "execution_count": 2,
   "metadata": {},
   "outputs": [],
   "source": [
    "# Init libraries\n",
    "import pandas as pd\n",
    "import cooler\n",
    "\n",
    "# Global variables\n",
    "in_dir = \"/mnt/c/Users/Marti/Documents/Projects/HK_Interactions/Data/HiC/4DN_portal/average/01_bedpe\"\n",
    "out_dir = \"/mnt/c/Users/Marti/Documents/Projects/HK_Interactions/Data/HiC/4DN_portal/average/02_bins\"\n",
    "raw_cool_dir =\"/mnt/c/Users/Marti/Documents/Projects/HK_Interactions/Data/HiC/4DN_portal/raw/\"\n",
    "date = \"240105\"\n",
    "\n",
    "# Local functions\n"
   ]
  },
  {
   "cell_type": "markdown",
   "metadata": {},
   "source": [
    "In previous test I verify that we can create cool files using the cooler function load. For this process we need to provide the bins information and the bedpe files with the mean values. \n",
    "The function need to be run in the command line, but I will setup the neccesary files in this notebook."
   ]
  },
  {
   "cell_type": "code",
   "execution_count": 4,
   "metadata": {},
   "outputs": [],
   "source": [
    "#define the resolutions to be used\n",
    "resolutions = ['2000', '5000','10000','25000','50000','100000','250000','500000','1000000']\n",
    "\n",
    "#test resolutions\n",
    "# resolutions = ['1000000']\n",
    "# resolutions = ['5000000']\n",
    "\n",
    "# Chromosomes to analyze\n",
    "chromosomes = ['chr1', 'chr2', 'chr3', 'chr4', 'chr5',\n",
    "                'chr6', 'chr7', 'chr8', 'chr9', 'chr10',\n",
    "                  'chr11', 'chr12', 'chr13', 'chr14', 'chr15',\n",
    "                    'chr16', 'chr17','chr18','chr19','chr20',\n",
    "                    'chr21','chr22','chrX']\n",
    "\n",
    "#for each resolution, we need to save the bin information and the average matrix\n",
    "for res in resolutions:\n",
    "   \n",
    "    # Load the mcool file for the resolution. We can use any cell type, since the bin information is the same for all of them.\n",
    "    cool_data = cooler.Cooler(raw_cool_dir + \"4DNFII4IPDTR.mcool::resolutions/\" + str(res))\n",
    "    #get the bins table\n",
    "    bins = cool_data.bins()[:]\n",
    "    # Filter bins from unwanted chromosomes\n",
    "    bins = bins[bins['chrom'].isin(chromosomes)]\n",
    "    #remove the columns that are not needed\n",
    "    bins = bins[['chrom', 'start', 'end']]\n",
    "    #save the bins table as a bed file\n",
    "    bins.to_csv(f'{out_dir}/bins_{res}.bed', sep='\\t', index=False, header=False)\n",
    "    "
   ]
  }
 ],
 "metadata": {
  "kernelspec": {
   "display_name": "HK_PPI",
   "language": "python",
   "name": "python3"
  },
  "language_info": {
   "codemirror_mode": {
    "name": "ipython",
    "version": 3
   },
   "file_extension": ".py",
   "mimetype": "text/x-python",
   "name": "python",
   "nbconvert_exporter": "python",
   "pygments_lexer": "ipython3",
   "version": "3.10.12"
  }
 },
 "nbformat": 4,
 "nbformat_minor": 2
}
