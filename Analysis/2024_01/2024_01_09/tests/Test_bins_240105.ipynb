{
 "cells": [
  {
   "cell_type": "markdown",
   "metadata": {},
   "source": [
    "Martin Loza\n",
    "\n",
    "24/01/06\n",
    "\n",
    "I am trying to track down a bug that causes a weird vizualization of the average data. The average data kind of looks OK, then, now I want to confirm that I am creating bins correctly."
   ]
  },
  {
   "cell_type": "code",
   "execution_count": 1,
   "metadata": {},
   "outputs": [],
   "source": [
    "# Init libraries\n",
    "import pandas as pd\n",
    "import cooler\n",
    "\n",
    "# Global variables\n",
    "in_dir = \"/mnt/c/Users/Marti/Documents/Projects/HK_Interactions/Data/HiC/4DN_portal/average/01_bedpe\"\n",
    "out_dir = \"/mnt/c/Users/Marti/Documents/Projects/HK_Interactions/Data/HiC/4DN_portal/average/tests/\"\n",
    "raw_cool_dir =\"/mnt/c/Users/Marti/Documents/Projects/HK_Interactions/Data/HiC/4DN_portal/raw/\"\n",
    "date = \"240106\"\n",
    "\n",
    "# Local functions\n"
   ]
  },
  {
   "cell_type": "markdown",
   "metadata": {},
   "source": [
    "In previous test I verify that we can create cool files using the cooler function load. For this process we need to provide the bins information and the bedpe files with the mean values. \n",
    "The function need to be run in the command line, but I will setup the neccesary files in this notebook."
   ]
  },
  {
   "cell_type": "code",
   "execution_count": 3,
   "metadata": {},
   "outputs": [],
   "source": [
    "#test resolutions\n",
    "resolutions = ['1000000']\n",
    "\n",
    "# Load the mcool file for the resolution. We can use any cell type, since the bin information is the same for all of them.\n",
    "cool_data = cooler.Cooler(raw_cool_dir + \"4DNFII4IPDTR.mcool::resolutions/\" + str(resolutions[0]))\n",
    "#get the bins table\n",
    "bins = cool_data.bins()[:]\n",
    "#remove the columns that are not needed\n",
    "bins = bins[['chrom', 'start', 'end']]"
   ]
  },
  {
   "cell_type": "code",
   "execution_count": 6,
   "metadata": {},
   "outputs": [
    {
     "data": {
      "text/html": [
       "<div>\n",
       "<style scoped>\n",
       "    .dataframe tbody tr th:only-of-type {\n",
       "        vertical-align: middle;\n",
       "    }\n",
       "\n",
       "    .dataframe tbody tr th {\n",
       "        vertical-align: top;\n",
       "    }\n",
       "\n",
       "    .dataframe thead th {\n",
       "        text-align: right;\n",
       "    }\n",
       "</style>\n",
       "<table border=\"1\" class=\"dataframe\">\n",
       "  <thead>\n",
       "    <tr style=\"text-align: right;\">\n",
       "      <th></th>\n",
       "      <th>chrom</th>\n",
       "      <th>start</th>\n",
       "      <th>end</th>\n",
       "    </tr>\n",
       "  </thead>\n",
       "  <tbody>\n",
       "    <tr>\n",
       "      <th>0</th>\n",
       "      <td>chr1</td>\n",
       "      <td>0</td>\n",
       "      <td>1000000</td>\n",
       "    </tr>\n",
       "    <tr>\n",
       "      <th>1</th>\n",
       "      <td>chr1</td>\n",
       "      <td>1000000</td>\n",
       "      <td>2000000</td>\n",
       "    </tr>\n",
       "    <tr>\n",
       "      <th>2</th>\n",
       "      <td>chr1</td>\n",
       "      <td>2000000</td>\n",
       "      <td>3000000</td>\n",
       "    </tr>\n",
       "    <tr>\n",
       "      <th>3</th>\n",
       "      <td>chr1</td>\n",
       "      <td>3000000</td>\n",
       "      <td>4000000</td>\n",
       "    </tr>\n",
       "    <tr>\n",
       "      <th>4</th>\n",
       "      <td>chr1</td>\n",
       "      <td>4000000</td>\n",
       "      <td>5000000</td>\n",
       "    </tr>\n",
       "    <tr>\n",
       "      <th>...</th>\n",
       "      <td>...</td>\n",
       "      <td>...</td>\n",
       "      <td>...</td>\n",
       "    </tr>\n",
       "    <tr>\n",
       "      <th>3097</th>\n",
       "      <td>chrY</td>\n",
       "      <td>53000000</td>\n",
       "      <td>54000000</td>\n",
       "    </tr>\n",
       "    <tr>\n",
       "      <th>3098</th>\n",
       "      <td>chrY</td>\n",
       "      <td>54000000</td>\n",
       "      <td>55000000</td>\n",
       "    </tr>\n",
       "    <tr>\n",
       "      <th>3099</th>\n",
       "      <td>chrY</td>\n",
       "      <td>55000000</td>\n",
       "      <td>56000000</td>\n",
       "    </tr>\n",
       "    <tr>\n",
       "      <th>3100</th>\n",
       "      <td>chrY</td>\n",
       "      <td>56000000</td>\n",
       "      <td>57000000</td>\n",
       "    </tr>\n",
       "    <tr>\n",
       "      <th>3101</th>\n",
       "      <td>chrY</td>\n",
       "      <td>57000000</td>\n",
       "      <td>57227415</td>\n",
       "    </tr>\n",
       "  </tbody>\n",
       "</table>\n",
       "<p>3102 rows × 3 columns</p>\n",
       "</div>"
      ],
      "text/plain": [
       "     chrom     start       end\n",
       "0     chr1         0   1000000\n",
       "1     chr1   1000000   2000000\n",
       "2     chr1   2000000   3000000\n",
       "3     chr1   3000000   4000000\n",
       "4     chr1   4000000   5000000\n",
       "...    ...       ...       ...\n",
       "3097  chrY  53000000  54000000\n",
       "3098  chrY  54000000  55000000\n",
       "3099  chrY  55000000  56000000\n",
       "3100  chrY  56000000  57000000\n",
       "3101  chrY  57000000  57227415\n",
       "\n",
       "[3102 rows x 3 columns]"
      ]
     },
     "execution_count": 6,
     "metadata": {},
     "output_type": "execute_result"
    }
   ],
   "source": [
    "bins[:]"
   ]
  },
  {
   "cell_type": "code",
   "execution_count": 5,
   "metadata": {},
   "outputs": [
    {
     "name": "stderr",
     "output_type": "stream",
     "text": [
      "/tmp/ipykernel_8318/1610254971.py:1: FutureWarning: The default of observed=False is deprecated and will be changed to True in a future version of pandas. Pass observed=False to retain current behavior or observed=True to adopt the future default and silence this warning.\n",
      "  bins.groupby('chrom')['end'].max()\n"
     ]
    },
    {
     "data": {
      "text/plain": [
       "chrom\n",
       "chr1     248956422\n",
       "chr2     242193529\n",
       "chr3     198295559\n",
       "chr4     190214555\n",
       "chr5     181538259\n",
       "chr6     170805979\n",
       "chr7     159345973\n",
       "chr8     145138636\n",
       "chr9     138394717\n",
       "chr10    133797422\n",
       "chr11    135086622\n",
       "chr12    133275309\n",
       "chr13    114364328\n",
       "chr14    107043718\n",
       "chr15    101991189\n",
       "chr16     90338345\n",
       "chr17     83257441\n",
       "chr18     80373285\n",
       "chr19     58617616\n",
       "chr20     64444167\n",
       "chr21     46709983\n",
       "chr22     50818468\n",
       "chrX     156040895\n",
       "chrY      57227415\n",
       "Name: end, dtype: int32"
      ]
     },
     "execution_count": 5,
     "metadata": {},
     "output_type": "execute_result"
    }
   ],
   "source": [
    "bins.groupby('chrom')['end'].max()"
   ]
  },
  {
   "cell_type": "code",
   "execution_count": 4,
   "metadata": {},
   "outputs": [],
   "source": [
    "#define the resolutions to be used\n",
    "# resolutions = ['5000','10000','25000','50000','100000','250000','500000','1000000','2500000','5000000']\n",
    "\n",
    "#test resolutions\n",
    "resolutions = ['1000000']\n",
    "# resolutions = ['5000000']\n",
    "\n",
    "#for each resolution, we need to save the bin information and the average matrix\n",
    "for res in resolutions:\n",
    "   \n",
    "    # Load the mcool file for the resolution. We can use any cell type, since the bin information is the same for all of them.\n",
    "    cool_data = cooler.Cooler(raw_cool_dir + \"4DNFII4IPDTR.mcool::resolutions/\" + str(res))\n",
    "    #get the bins table\n",
    "    bins = cool_data.bins()[:]\n",
    "    #remove the columns that are not needed\n",
    "    bins = bins[['chrom', 'start', 'end']]\n",
    "    #save the bins table as a bed file\n",
    "    bins.to_csv(f'{out_dir}/bins_{res}.bed', sep='\\t', index=False, header=False)\n",
    "    "
   ]
  }
 ],
 "metadata": {
  "kernelspec": {
   "display_name": "HK_PPI",
   "language": "python",
   "name": "python3"
  },
  "language_info": {
   "codemirror_mode": {
    "name": "ipython",
    "version": 3
   },
   "file_extension": ".py",
   "mimetype": "text/x-python",
   "name": "python",
   "nbconvert_exporter": "python",
   "pygments_lexer": "ipython3",
   "version": "3.10.12"
  }
 },
 "nbformat": 4,
 "nbformat_minor": 2
}
