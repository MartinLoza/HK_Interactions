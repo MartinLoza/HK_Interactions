{
 "cells": [
  {
   "cell_type": "markdown",
   "metadata": {},
   "source": [
    "In this workflow I would like to test to average a HiC file. I am not sure if I would transform it into a mcool file or just a bedpe... "
   ]
  },
  {
   "cell_type": "code",
   "execution_count": 1,
   "metadata": {},
   "outputs": [],
   "source": [
    "# Init libraries\n",
    "import cooler\n",
    "import numpy as np\n",
    "import pandas as pd\n",
    "from sklearn.preprocessing import StandardScaler\n",
    "import matplotlib.pyplot as plt\n",
    "import seaborn as sns\n",
    "import h5py\n",
    "import warnings\n",
    "\n",
    "scaler = StandardScaler()\n",
    "\n",
    "# Global variables\n",
    "in_dir = \"~/Documents/Projects/HK_Interactions/Analysis/2023_12/2023_12_19/Results/\"\n",
    "out_dir = \"~/Documents/Projects/HK_Interactions/Analysis/2023_12/2023_12_19/Results/\"\n",
    "\n",
    "# Local functions\n",
    "\n",
    "#Function to filter ids appearing in less than n cell types\n",
    "def filter_ids(df,n_cells=5, column='count'):\n",
    "    # count the number of elements per id\n",
    "    tmp = df.groupby('id')[column].count()\n",
    "    # ids of intereaction appearing in n cell types\n",
    "    ids = tmp[tmp == n_cells].index\n",
    "    # filter the data\n",
    "    df = df[df['id'].isin(ids)]\n",
    "    \n",
    "    # histogram of interaction in less than n cell types\n",
    "    plt.hist(tmp[tmp < n_cells], bins=10)\n",
    "    plt.title(f\"Distribution of Interaction IDs with Less than {n_cells} Elements\\nColumn: {column}\")\n",
    "    plt.xlabel(\"Number of Elements\")\n",
    "    plt.ylabel(\"Frequency\")\n",
    "    plt.show()\n",
    "    \n",
    "    return df\n",
    "\n",
    "# Function to replace NaN values with a value outside the range of the data\n",
    "def replace_nan(df, column='scaled', replace_with=-10):\n",
    "        \n",
    "    #if the value is true, throw a warning and change the nan_value to something more appropriate\n",
    "    if data['scaled'].min() < replace_with:\n",
    "        # Change the value based on the minimum value of the scaled data\n",
    "        replace_with = round(data['scaled'].min() - 1)  \n",
    "        warnings.warn(f\"The replace_with is not outside the range of the scaled data. Changing the value to: {nan_value}\")\n",
    "        \n",
    "    # replace the NaN values with the nan_value\n",
    "    df[column] = df[column].fillna(replace_with)\n",
    "    \n",
    "    return df\n"
   ]
  },
  {
   "cell_type": "code",
   "execution_count": 2,
   "metadata": {},
   "outputs": [
    {
     "data": {
      "text/html": [
       "<div>\n",
       "<style scoped>\n",
       "    .dataframe tbody tr th:only-of-type {\n",
       "        vertical-align: middle;\n",
       "    }\n",
       "\n",
       "    .dataframe tbody tr th {\n",
       "        vertical-align: top;\n",
       "    }\n",
       "\n",
       "    .dataframe thead th {\n",
       "        text-align: right;\n",
       "    }\n",
       "</style>\n",
       "<table border=\"1\" class=\"dataframe\">\n",
       "  <thead>\n",
       "    <tr style=\"text-align: right;\">\n",
       "      <th></th>\n",
       "      <th>chrom1</th>\n",
       "      <th>start1</th>\n",
       "      <th>end1</th>\n",
       "      <th>chrom2</th>\n",
       "      <th>start2</th>\n",
       "      <th>end2</th>\n",
       "      <th>count</th>\n",
       "      <th>balanced</th>\n",
       "      <th>cell_type</th>\n",
       "      <th>log10_balanced</th>\n",
       "      <th>scaled</th>\n",
       "    </tr>\n",
       "  </thead>\n",
       "  <tbody>\n",
       "    <tr>\n",
       "      <th>0</th>\n",
       "      <td>chr1</td>\n",
       "      <td>0</td>\n",
       "      <td>1000000</td>\n",
       "      <td>chr1</td>\n",
       "      <td>0</td>\n",
       "      <td>1000000</td>\n",
       "      <td>16844</td>\n",
       "      <td>0.138459</td>\n",
       "      <td>GM12878</td>\n",
       "      <td>-0.858680</td>\n",
       "      <td>3.507877</td>\n",
       "    </tr>\n",
       "    <tr>\n",
       "      <th>1</th>\n",
       "      <td>chr1</td>\n",
       "      <td>0</td>\n",
       "      <td>1000000</td>\n",
       "      <td>chr1</td>\n",
       "      <td>1000000</td>\n",
       "      <td>2000000</td>\n",
       "      <td>3148</td>\n",
       "      <td>0.038244</td>\n",
       "      <td>GM12878</td>\n",
       "      <td>-1.417435</td>\n",
       "      <td>2.531712</td>\n",
       "    </tr>\n",
       "    <tr>\n",
       "      <th>2</th>\n",
       "      <td>chr1</td>\n",
       "      <td>0</td>\n",
       "      <td>1000000</td>\n",
       "      <td>chr1</td>\n",
       "      <td>2000000</td>\n",
       "      <td>3000000</td>\n",
       "      <td>332</td>\n",
       "      <td>0.004826</td>\n",
       "      <td>GM12878</td>\n",
       "      <td>-2.316379</td>\n",
       "      <td>0.961228</td>\n",
       "    </tr>\n",
       "    <tr>\n",
       "      <th>3</th>\n",
       "      <td>chr1</td>\n",
       "      <td>0</td>\n",
       "      <td>1000000</td>\n",
       "      <td>chr1</td>\n",
       "      <td>3000000</td>\n",
       "      <td>4000000</td>\n",
       "      <td>228</td>\n",
       "      <td>0.002806</td>\n",
       "      <td>GM12878</td>\n",
       "      <td>-2.551865</td>\n",
       "      <td>0.549825</td>\n",
       "    </tr>\n",
       "    <tr>\n",
       "      <th>4</th>\n",
       "      <td>chr1</td>\n",
       "      <td>0</td>\n",
       "      <td>1000000</td>\n",
       "      <td>chr1</td>\n",
       "      <td>4000000</td>\n",
       "      <td>5000000</td>\n",
       "      <td>128</td>\n",
       "      <td>0.001592</td>\n",
       "      <td>GM12878</td>\n",
       "      <td>-2.797943</td>\n",
       "      <td>0.119919</td>\n",
       "    </tr>\n",
       "  </tbody>\n",
       "</table>\n",
       "</div>"
      ],
      "text/plain": [
       "  chrom1  start1     end1 chrom2   start2     end2  count  balanced cell_type  \\\n",
       "0   chr1       0  1000000   chr1        0  1000000  16844  0.138459   GM12878   \n",
       "1   chr1       0  1000000   chr1  1000000  2000000   3148  0.038244   GM12878   \n",
       "2   chr1       0  1000000   chr1  2000000  3000000    332  0.004826   GM12878   \n",
       "3   chr1       0  1000000   chr1  3000000  4000000    228  0.002806   GM12878   \n",
       "4   chr1       0  1000000   chr1  4000000  5000000    128  0.001592   GM12878   \n",
       "\n",
       "   log10_balanced    scaled  \n",
       "0       -0.858680  3.507877  \n",
       "1       -1.417435  2.531712  \n",
       "2       -2.316379  0.961228  \n",
       "3       -2.551865  0.549825  \n",
       "4       -2.797943  0.119919  "
      ]
     },
     "execution_count": 2,
     "metadata": {},
     "output_type": "execute_result"
    }
   ],
   "source": [
    "#let's load the data\n",
    "data = pd.read_csv(in_dir + \"scaled_matrix_1000000.csv\")\n",
    "data[:5]"
   ]
  },
  {
   "cell_type": "markdown",
   "metadata": {},
   "source": [
    "I need to average the scaled data for each interaction.\n",
    "Then, I need to add an interaction_id, then group by interaction (or loop by interaction) to average the scaled data.\n",
    "This can be a bit time consuming for high resolution bins."
   ]
  },
  {
   "cell_type": "code",
   "execution_count": 3,
   "metadata": {},
   "outputs": [
    {
     "data": {
      "text/html": [
       "<div>\n",
       "<style scoped>\n",
       "    .dataframe tbody tr th:only-of-type {\n",
       "        vertical-align: middle;\n",
       "    }\n",
       "\n",
       "    .dataframe tbody tr th {\n",
       "        vertical-align: top;\n",
       "    }\n",
       "\n",
       "    .dataframe thead th {\n",
       "        text-align: right;\n",
       "    }\n",
       "</style>\n",
       "<table border=\"1\" class=\"dataframe\">\n",
       "  <thead>\n",
       "    <tr style=\"text-align: right;\">\n",
       "      <th></th>\n",
       "      <th>chrom1</th>\n",
       "      <th>start1</th>\n",
       "      <th>end1</th>\n",
       "      <th>chrom2</th>\n",
       "      <th>start2</th>\n",
       "      <th>end2</th>\n",
       "      <th>count</th>\n",
       "      <th>balanced</th>\n",
       "      <th>cell_type</th>\n",
       "      <th>log10_balanced</th>\n",
       "      <th>scaled</th>\n",
       "      <th>id</th>\n",
       "    </tr>\n",
       "  </thead>\n",
       "  <tbody>\n",
       "    <tr>\n",
       "      <th>0</th>\n",
       "      <td>chr1</td>\n",
       "      <td>0</td>\n",
       "      <td>1000000</td>\n",
       "      <td>chr1</td>\n",
       "      <td>0</td>\n",
       "      <td>1000000</td>\n",
       "      <td>16844</td>\n",
       "      <td>0.138459</td>\n",
       "      <td>GM12878</td>\n",
       "      <td>-0.858680</td>\n",
       "      <td>3.507877</td>\n",
       "      <td>chr1_0_chr1_0</td>\n",
       "    </tr>\n",
       "    <tr>\n",
       "      <th>1</th>\n",
       "      <td>chr1</td>\n",
       "      <td>0</td>\n",
       "      <td>1000000</td>\n",
       "      <td>chr1</td>\n",
       "      <td>1000000</td>\n",
       "      <td>2000000</td>\n",
       "      <td>3148</td>\n",
       "      <td>0.038244</td>\n",
       "      <td>GM12878</td>\n",
       "      <td>-1.417435</td>\n",
       "      <td>2.531712</td>\n",
       "      <td>chr1_0_chr1_1000000</td>\n",
       "    </tr>\n",
       "    <tr>\n",
       "      <th>2</th>\n",
       "      <td>chr1</td>\n",
       "      <td>0</td>\n",
       "      <td>1000000</td>\n",
       "      <td>chr1</td>\n",
       "      <td>2000000</td>\n",
       "      <td>3000000</td>\n",
       "      <td>332</td>\n",
       "      <td>0.004826</td>\n",
       "      <td>GM12878</td>\n",
       "      <td>-2.316379</td>\n",
       "      <td>0.961228</td>\n",
       "      <td>chr1_0_chr1_2000000</td>\n",
       "    </tr>\n",
       "    <tr>\n",
       "      <th>3</th>\n",
       "      <td>chr1</td>\n",
       "      <td>0</td>\n",
       "      <td>1000000</td>\n",
       "      <td>chr1</td>\n",
       "      <td>3000000</td>\n",
       "      <td>4000000</td>\n",
       "      <td>228</td>\n",
       "      <td>0.002806</td>\n",
       "      <td>GM12878</td>\n",
       "      <td>-2.551865</td>\n",
       "      <td>0.549825</td>\n",
       "      <td>chr1_0_chr1_3000000</td>\n",
       "    </tr>\n",
       "    <tr>\n",
       "      <th>4</th>\n",
       "      <td>chr1</td>\n",
       "      <td>0</td>\n",
       "      <td>1000000</td>\n",
       "      <td>chr1</td>\n",
       "      <td>4000000</td>\n",
       "      <td>5000000</td>\n",
       "      <td>128</td>\n",
       "      <td>0.001592</td>\n",
       "      <td>GM12878</td>\n",
       "      <td>-2.797943</td>\n",
       "      <td>0.119919</td>\n",
       "      <td>chr1_0_chr1_4000000</td>\n",
       "    </tr>\n",
       "  </tbody>\n",
       "</table>\n",
       "</div>"
      ],
      "text/plain": [
       "  chrom1  start1     end1 chrom2   start2     end2  count  balanced cell_type  \\\n",
       "0   chr1       0  1000000   chr1        0  1000000  16844  0.138459   GM12878   \n",
       "1   chr1       0  1000000   chr1  1000000  2000000   3148  0.038244   GM12878   \n",
       "2   chr1       0  1000000   chr1  2000000  3000000    332  0.004826   GM12878   \n",
       "3   chr1       0  1000000   chr1  3000000  4000000    228  0.002806   GM12878   \n",
       "4   chr1       0  1000000   chr1  4000000  5000000    128  0.001592   GM12878   \n",
       "\n",
       "   log10_balanced    scaled                   id  \n",
       "0       -0.858680  3.507877        chr1_0_chr1_0  \n",
       "1       -1.417435  2.531712  chr1_0_chr1_1000000  \n",
       "2       -2.316379  0.961228  chr1_0_chr1_2000000  \n",
       "3       -2.551865  0.549825  chr1_0_chr1_3000000  \n",
       "4       -2.797943  0.119919  chr1_0_chr1_4000000  "
      ]
     },
     "execution_count": 3,
     "metadata": {},
     "output_type": "execute_result"
    }
   ],
   "source": [
    "# add interaction id\n",
    "data['id'] = data['chrom1'] + '_' + data['start1'].astype(str) + '_' + data['chrom2'] + '_' + data['start2'].astype(str)\n",
    "data[:5]"
   ]
  },
  {
   "cell_type": "code",
   "execution_count": 4,
   "metadata": {},
   "outputs": [
    {
     "data": {
      "image/png": "[encoded data removed]",
      "text/plain": [
       "<Figure size 640x480 with 1 Axes>"
      ]
     },
     "metadata": {},
     "output_type": "display_data"
    }
   ],
   "source": [
    "# In a previous test, we found that there are some interactions that doesn't appear in all cell types\n",
    "# This interactions can be filtered out as we want to focus on housekeeping interactions\n",
    "\n",
    "#Filter interactions that doesn't appear in all cell types\n",
    "data = filter_ids(data, n_cells=5, column='count')"
   ]
  },
  {
   "cell_type": "code",
   "execution_count": 5,
   "metadata": {},
   "outputs": [
    {
     "data": {
      "text/plain": [
       "0"
      ]
     },
     "execution_count": 5,
     "metadata": {},
     "output_type": "execute_result"
    }
   ],
   "source": [
    "# In a previous test, I found that there are some NaN values in the scaled data\n",
    "# This NaN could create a bias in the mean values. \n",
    "# To avoid this, I will replace the NaN values with a value outside the range of the data\n",
    "# I coded a function to do this\n",
    "data = replace_nan(data, column='scaled', replace_with=-10)\n",
    "data['scaled'].isna().sum()"
   ]
  },
  {
   "cell_type": "code",
   "execution_count": 6,
   "metadata": {},
   "outputs": [
    {
     "data": {
      "text/plain": [
       "id\n",
       "chr10_0_chr10_0            4.039282\n",
       "chr10_0_chr10_1000000      2.836969\n",
       "chr10_0_chr10_10000000     0.617643\n",
       "chr10_0_chr10_100000000   -0.421057\n",
       "chr10_0_chr10_101000000   -0.465298\n",
       "Name: scaled, dtype: float64"
      ]
     },
     "execution_count": 6,
     "metadata": {},
     "output_type": "execute_result"
    }
   ],
   "source": [
    "#Then, we can calculate the mean values \n",
    "\n",
    "# group by id and calculate mean of scaled interaction\n",
    "mean_values = data.groupby('id')['scaled'].mean()\n",
    "mean_values[:5]\n"
   ]
  },
  {
   "cell_type": "code",
   "execution_count": 7,
   "metadata": {},
   "outputs": [
    {
     "data": {
      "text/html": [
       "<div>\n",
       "<style scoped>\n",
       "    .dataframe tbody tr th:only-of-type {\n",
       "        vertical-align: middle;\n",
       "    }\n",
       "\n",
       "    .dataframe tbody tr th {\n",
       "        vertical-align: top;\n",
       "    }\n",
       "\n",
       "    .dataframe thead th {\n",
       "        text-align: right;\n",
       "    }\n",
       "</style>\n",
       "<table border=\"1\" class=\"dataframe\">\n",
       "  <thead>\n",
       "    <tr style=\"text-align: right;\">\n",
       "      <th></th>\n",
       "      <th>id</th>\n",
       "      <th>chrom1</th>\n",
       "      <th>start1</th>\n",
       "      <th>end1</th>\n",
       "      <th>chrom2</th>\n",
       "      <th>start2</th>\n",
       "      <th>end2</th>\n",
       "    </tr>\n",
       "  </thead>\n",
       "  <tbody>\n",
       "    <tr>\n",
       "      <th>0</th>\n",
       "      <td>chr1_0_chr1_0</td>\n",
       "      <td>chr1</td>\n",
       "      <td>0</td>\n",
       "      <td>1000000</td>\n",
       "      <td>chr1</td>\n",
       "      <td>0</td>\n",
       "      <td>1000000</td>\n",
       "    </tr>\n",
       "    <tr>\n",
       "      <th>1</th>\n",
       "      <td>chr1_0_chr1_1000000</td>\n",
       "      <td>chr1</td>\n",
       "      <td>0</td>\n",
       "      <td>1000000</td>\n",
       "      <td>chr1</td>\n",
       "      <td>1000000</td>\n",
       "      <td>2000000</td>\n",
       "    </tr>\n",
       "    <tr>\n",
       "      <th>2</th>\n",
       "      <td>chr1_0_chr1_2000000</td>\n",
       "      <td>chr1</td>\n",
       "      <td>0</td>\n",
       "      <td>1000000</td>\n",
       "      <td>chr1</td>\n",
       "      <td>2000000</td>\n",
       "      <td>3000000</td>\n",
       "    </tr>\n",
       "    <tr>\n",
       "      <th>3</th>\n",
       "      <td>chr1_0_chr1_3000000</td>\n",
       "      <td>chr1</td>\n",
       "      <td>0</td>\n",
       "      <td>1000000</td>\n",
       "      <td>chr1</td>\n",
       "      <td>3000000</td>\n",
       "      <td>4000000</td>\n",
       "    </tr>\n",
       "    <tr>\n",
       "      <th>4</th>\n",
       "      <td>chr1_0_chr1_4000000</td>\n",
       "      <td>chr1</td>\n",
       "      <td>0</td>\n",
       "      <td>1000000</td>\n",
       "      <td>chr1</td>\n",
       "      <td>4000000</td>\n",
       "      <td>5000000</td>\n",
       "    </tr>\n",
       "  </tbody>\n",
       "</table>\n",
       "</div>"
      ],
      "text/plain": [
       "                    id chrom1  start1     end1 chrom2   start2     end2\n",
       "0        chr1_0_chr1_0   chr1       0  1000000   chr1        0  1000000\n",
       "1  chr1_0_chr1_1000000   chr1       0  1000000   chr1  1000000  2000000\n",
       "2  chr1_0_chr1_2000000   chr1       0  1000000   chr1  2000000  3000000\n",
       "3  chr1_0_chr1_3000000   chr1       0  1000000   chr1  3000000  4000000\n",
       "4  chr1_0_chr1_4000000   chr1       0  1000000   chr1  4000000  5000000"
      ]
     },
     "execution_count": 7,
     "metadata": {},
     "output_type": "execute_result"
    }
   ],
   "source": [
    "# now, using the ids I need to create a new dataframe with the chroms and positions\n",
    "# we can filter the data for only one cell type and remove the unnecessary columns\n",
    "data_mean = data[data['cell_type'] == \"GM12878\"].copy()\n",
    "# select only the columns we need\n",
    "data_mean = data_mean[['id', 'chrom1', 'start1', 'end1', 'chrom2', 'start2', 'end2']]\n",
    "data_mean[:5]"
   ]
  },
  {
   "cell_type": "code",
   "execution_count": 8,
   "metadata": {},
   "outputs": [
    {
     "data": {
      "text/html": [
       "<div>\n",
       "<style scoped>\n",
       "    .dataframe tbody tr th:only-of-type {\n",
       "        vertical-align: middle;\n",
       "    }\n",
       "\n",
       "    .dataframe tbody tr th {\n",
       "        vertical-align: top;\n",
       "    }\n",
       "\n",
       "    .dataframe thead th {\n",
       "        text-align: right;\n",
       "    }\n",
       "</style>\n",
       "<table border=\"1\" class=\"dataframe\">\n",
       "  <thead>\n",
       "    <tr style=\"text-align: right;\">\n",
       "      <th></th>\n",
       "      <th>id</th>\n",
       "      <th>chrom1</th>\n",
       "      <th>start1</th>\n",
       "      <th>end1</th>\n",
       "      <th>chrom2</th>\n",
       "      <th>start2</th>\n",
       "      <th>end2</th>\n",
       "      <th>mean</th>\n",
       "    </tr>\n",
       "  </thead>\n",
       "  <tbody>\n",
       "    <tr>\n",
       "      <th>0</th>\n",
       "      <td>chr1_0_chr1_0</td>\n",
       "      <td>chr1</td>\n",
       "      <td>0</td>\n",
       "      <td>1000000</td>\n",
       "      <td>chr1</td>\n",
       "      <td>0</td>\n",
       "      <td>1000000</td>\n",
       "      <td>3.686164</td>\n",
       "    </tr>\n",
       "    <tr>\n",
       "      <th>1</th>\n",
       "      <td>chr1_0_chr1_1000000</td>\n",
       "      <td>chr1</td>\n",
       "      <td>0</td>\n",
       "      <td>1000000</td>\n",
       "      <td>chr1</td>\n",
       "      <td>1000000</td>\n",
       "      <td>2000000</td>\n",
       "      <td>2.551184</td>\n",
       "    </tr>\n",
       "    <tr>\n",
       "      <th>2</th>\n",
       "      <td>chr1_0_chr1_2000000</td>\n",
       "      <td>chr1</td>\n",
       "      <td>0</td>\n",
       "      <td>1000000</td>\n",
       "      <td>chr1</td>\n",
       "      <td>2000000</td>\n",
       "      <td>3000000</td>\n",
       "      <td>1.022731</td>\n",
       "    </tr>\n",
       "    <tr>\n",
       "      <th>3</th>\n",
       "      <td>chr1_0_chr1_3000000</td>\n",
       "      <td>chr1</td>\n",
       "      <td>0</td>\n",
       "      <td>1000000</td>\n",
       "      <td>chr1</td>\n",
       "      <td>3000000</td>\n",
       "      <td>4000000</td>\n",
       "      <td>0.514062</td>\n",
       "    </tr>\n",
       "    <tr>\n",
       "      <th>4</th>\n",
       "      <td>chr1_0_chr1_4000000</td>\n",
       "      <td>chr1</td>\n",
       "      <td>0</td>\n",
       "      <td>1000000</td>\n",
       "      <td>chr1</td>\n",
       "      <td>4000000</td>\n",
       "      <td>5000000</td>\n",
       "      <td>0.054296</td>\n",
       "    </tr>\n",
       "  </tbody>\n",
       "</table>\n",
       "</div>"
      ],
      "text/plain": [
       "                    id chrom1  start1     end1 chrom2   start2     end2  \\\n",
       "0        chr1_0_chr1_0   chr1       0  1000000   chr1        0  1000000   \n",
       "1  chr1_0_chr1_1000000   chr1       0  1000000   chr1  1000000  2000000   \n",
       "2  chr1_0_chr1_2000000   chr1       0  1000000   chr1  2000000  3000000   \n",
       "3  chr1_0_chr1_3000000   chr1       0  1000000   chr1  3000000  4000000   \n",
       "4  chr1_0_chr1_4000000   chr1       0  1000000   chr1  4000000  5000000   \n",
       "\n",
       "       mean  \n",
       "0  3.686164  \n",
       "1  2.551184  \n",
       "2  1.022731  \n",
       "3  0.514062  \n",
       "4  0.054296  "
      ]
     },
     "execution_count": 8,
     "metadata": {},
     "output_type": "execute_result"
    }
   ],
   "source": [
    "# We want to pass the information from mean_values to data_mean\n",
    "\n",
    "# First, we need to convert mean_values to a DataFrame and reset its index\n",
    "# Convert mean_values to a DataFrame and reset its index\n",
    "mean_values = mean_values.reset_index()\n",
    "# Also rename the columns \n",
    "mean_values.columns = ['id', 'mean']\n",
    "# Finally, merge the dataframes using the id column as anchor between them\n",
    "data_mean = data_mean.merge(mean_values, on='id', how='left')\n",
    "data_mean[:5]"
   ]
  },
  {
   "cell_type": "code",
   "execution_count": 9,
   "metadata": {},
   "outputs": [],
   "source": [
    "# Save the data with mean values\n",
    "data_mean.to_csv(out_dir + \"mean_values.tsv\", index=False, header=True, sep='\\t')"
   ]
  },
  {
   "cell_type": "code",
   "execution_count": 164,
   "metadata": {},
   "outputs": [
    {
     "name": "stdout",
     "output_type": "stream",
     "text": [
      "                        id      mean\n",
      "0          chr10_0_chr10_0  4.039282\n",
      "1    chr10_0_chr10_1000000  2.836969\n",
      "2   chr10_0_chr10_10000000  0.617643\n",
      "3  chr10_0_chr10_100000000 -0.421057\n",
      "4  chr10_0_chr10_101000000 -0.465298\n",
      "id\n",
      "chr1_0_chr1_0          3.686164\n",
      "chr1_0_chr1_1000000    2.551184\n",
      "chr1_0_chr1_2000000    1.022731\n",
      "chr1_0_chr1_3000000    0.514062\n",
      "chr1_0_chr1_4000000    0.054296\n",
      "Name: scaled, dtype: float64\n"
     ]
    }
   ],
   "source": [
    "## TEST 3. \n",
    "# On these blocks I will test how can I pass the information from mean_values to data_mean \n",
    "# Some of these tests are still unclear to me, but I am getting a better idea of how python works\n",
    "\n",
    "# I want to pass the information from mean_values to data_mean\n",
    "\n",
    "#for testing\n",
    "test_mean = mean_values.copy()\n",
    "test_mean = test_mean.reindex(data_mean['id'])\n",
    "\n",
    "# Convert mean_values to a DataFrame and reset its index\n",
    "mean_values = mean_values.reset_index()\n",
    "# rename the columns \n",
    "mean_values.columns = ['id', 'mean']\n",
    "print(mean_values[:5])\n",
    "print(test_mean[:5])"
   ]
  },
  {
   "cell_type": "code",
   "execution_count": 121,
   "metadata": {},
   "outputs": [
    {
     "name": "stdout",
     "output_type": "stream",
     "text": [
      "True\n",
      "True\n",
      "False\n"
     ]
    }
   ],
   "source": [
    "#short tests before merging the information\n",
    "#same number of rows\n",
    "print(len(data_mean) == len(mean_values))\n",
    "\n",
    "#same ids \n",
    "# check if all elements in \"id\" column are in the index of mean_values\n",
    "all_in_index = data_mean['id'].isin(mean_values.index).all()\n",
    "print(all_in_index)\n",
    "print(data_mean['id'].equals(mean_values.index))"
   ]
  },
  {
   "cell_type": "code",
   "execution_count": 122,
   "metadata": {},
   "outputs": [
    {
     "name": "stdout",
     "output_type": "stream",
     "text": [
      "False\n"
     ]
    }
   ],
   "source": [
    "# Sort data_mean by 'id'\n",
    "data_mean = data_mean.sort_values('id')\n",
    "\n",
    "# Convert mean_values to a DataFrame and reset its index\n",
    "mean_values_df = mean_values.reset_index()\n",
    "\n",
    "# Sort mean_values_df by 'id'\n",
    "mean_values_df = mean_values_df.sort_values('id')\n",
    "\n",
    "# Now check if 'id' values are the same and in the same order\n",
    "# print(data_mean['id'].equals(mean_values_df['id']))"
   ]
  },
  {
   "cell_type": "code",
   "execution_count": null,
   "metadata": {},
   "outputs": [],
   "source": [
    "\n",
    "\n",
    "# order the mean_values using the ids of data_mean\n",
    "mean_values = mean_values.reindex(data_mean['id'])\n",
    "mean_values[:5]\n",
    "\n",
    "# compare the ids with the mean_values index\n",
    "data_mean['id'].equals(mean_values.index.values)\n",
    "\n",
    "# add the new mean column\n",
    "# data_mean['mean'] = mean_values.values\n",
    "# data_mean[:5]\n",
    "\n",
    "# mean_values = mean_values.sort_index(\n",
    "# mean_values[:5]\n",
    "\n",
    "\n",
    "# add the new mean column\n",
    "# data_mean['mean'] = mean_values.values\n",
    "# data_mean[:5]\n",
    "\n"
   ]
  },
  {
   "cell_type": "code",
   "execution_count": 45,
   "metadata": {},
   "outputs": [
    {
     "data": {
      "text/plain": [
       "<AxesSubplot: >"
      ]
     },
     "execution_count": 45,
     "metadata": {},
     "output_type": "execute_result"
    },
    {
     "data": {
      "image/png": "[encoded data removed]",
      "text/plain": [
       "<Figure size 640x480 with 1 Axes>"
      ]
     },
     "metadata": {},
     "output_type": "display_data"
    }
   ],
   "source": [
    "# TEST 1.\n",
    "# It looks like I have different number of bins by cell type.\n",
    "# This is causing problems when trying to find the average values of the scaled interactions.\n",
    "# I would like to see how many bins are common and how many are cell type specific.\n",
    "\n",
    "#Let's cound the number of data related to each bin. I would expect most to have 5 elements as we have 5 cell types.\n",
    "tmp = data.groupby('id')['count'].count()\n",
    "\n",
    "#let's see how many bins have less than 5 elements\n",
    "tmp[tmp < 5].count()\n",
    "\n",
    "#there are 4445 elements with less than 5. There are 224656 elements in total (4445/224656 = 0.0198)\n",
    "#Most of the bins have 5 elements. \n",
    "\n",
    "#let's see th4e distribution of the number of bins for those with are less than 5\n",
    "tmp[tmp < 5].hist()"
   ]
  },
  {
   "cell_type": "code",
   "execution_count": 64,
   "metadata": {},
   "outputs": [],
   "source": [
    "# as we want to focus on housekeeping interactions, we will only keep those bins that have 5 elements\n",
    "# let's create a function to keep only interaction ids found in all cell types\n",
    "def filter_ids(df,n_cells=5, column='count'):\n",
    "    # count the number of elements per id\n",
    "    tmp = df.groupby('id')[column].count()\n",
    "    # ids of intereaction appearing in n cell types\n",
    "    ids = tmp[tmp == n_cells].index\n",
    "    # filter the data\n",
    "    df = df[df['id'].isin(ids)]\n",
    "    \n",
    "    # histogram of interaction in less than n cell types\n",
    "    plt.hist(tmp[tmp < n_cells], bins=10)\n",
    "    plt.title(f\"Distribution of Interaction IDs with Less than {n_cells} Elements\\nColumn: {column}\")\n",
    "    plt.xlabel(\"Number of Elements\")\n",
    "    plt.ylabel(\"Frequency\")\n",
    "    plt.show()\n",
    "    \n",
    "    return df\n",
    "    \n"
   ]
  },
  {
   "cell_type": "code",
   "execution_count": 65,
   "metadata": {},
   "outputs": [
    {
     "data": {
      "image/png": "[encoded data removed]",
      "text/plain": [
       "<Figure size 640x480 with 1 Axes>"
      ]
     },
     "metadata": {},
     "output_type": "display_data"
    },
    {
     "data": {
      "text/plain": [
       "0"
      ]
     },
     "execution_count": 65,
     "metadata": {},
     "output_type": "execute_result"
    }
   ],
   "source": [
    "#let's test the function\n",
    "test_data = filter_ids(data, n_cells=5, column='count')\n",
    "\n",
    "sum(test_data.groupby('id')['count'].count() < 5)\n",
    "\n",
    "#yay, it works! For keep the record, I would like to print a histogram showing the distribution of the filtered ids."
   ]
  },
  {
   "cell_type": "code",
   "execution_count": 57,
   "metadata": {},
   "outputs": [
    {
     "name": "stdout",
     "output_type": "stream",
     "text": [
      "-3.7115573891535303\n"
     ]
    },
    {
     "name": "stderr",
     "output_type": "stream",
     "text": [
      "/var/folders/ny/ghryq2s96nd28p5hz1bzc4240000gn/T/ipykernel_35847/3414352897.py:23: UserWarning: The nan_value is not outside the range of the scaled data. Changing the value to: -5\n",
      "  warnings.warn(f\"The nan_value is not outside the range of the scaled data. Changing the value to: {nan_value}\")\n"
     ]
    }
   ],
   "source": [
    "#TEST 2.\n",
    "# I want to deal with the NaN values in the scaled data. As the mean value will ignore this NaN values\n",
    "# They will create a bias in the mean value. I would like to replace the NaN values with a value outside of the range\n",
    "# of the scaled data. I can use the value of -10 for example, as an arbitrary large negative value.\n",
    "# However, I need to verify that this is actually outside of the range of the scaled data.\n",
    "# If not, I need to throw a warning and change the value to something else.\n",
    "\n",
    "print(data['scaled'].min())\n",
    "\n",
    "#let's define an arbitrary large negative value\n",
    "nan_value = -1\n",
    "\n",
    "# let's check the range of the scaled data\n",
    "data['scaled'].min()\n",
    "\n",
    "#let's compare with the value of -10\n",
    "data['scaled'].min() < nan_value\n",
    "\n",
    "#if the value is true, then we need to throw a warning and change the value to something else\n",
    "if data['scaled'].min() < nan_value:\n",
    "    # Change the value based on the minimum value of the scaled data\n",
    "    nan_value = round(data['scaled'].min() - 1)  \n",
    "    warnings.warn(f\"The nan_value is not outside the range of the scaled data. Changing the value to: {nan_value}\")\n",
    "    \n",
    "#let's create a function to replace the NaN values with the nan_value\n",
    "def replace_nan(df, column='scaled', replace_with=-10):\n",
    "        \n",
    "    #if the value is true, throw a warning and change the nan_value to something more appropriate\n",
    "    if data['scaled'].min() < replace_with:\n",
    "        # Change the value based on the minimum value of the scaled data\n",
    "        replace_with = round(data['scaled'].min() - 1)  \n",
    "        warnings.warn(f\"The replace_with is not outside the range of the scaled data. Changing the value to: {nan_value}\")\n",
    "        \n",
    "    # replace the NaN values with the nan_value\n",
    "    df[column] = df[column].fillna(replace_with)\n",
    "    \n",
    "    return df"
   ]
  },
  {
   "cell_type": "code",
   "execution_count": 69,
   "metadata": {},
   "outputs": [
    {
     "name": "stdout",
     "output_type": "stream",
     "text": [
      "43489\n",
      "43489\n",
      "0\n"
     ]
    }
   ],
   "source": [
    "#let's test the function\n",
    "\n",
    "#test data\n",
    "test_data1 = data.copy()\n",
    "#replace NaN values\n",
    "test_data2 = replace_nan(test_data1.copy(), column='scaled', replace_with=-10)\n",
    "# data['scaled'].isna().sum()\n",
    "#print NaN values before replacing\n",
    "print(data['scaled'].isna().sum())\n",
    "print(test_data1['scaled'].isna().sum())\n",
    "print(test_data2['scaled'].isna().sum())\n",
    "\n",
    "# I need to be careful for things I want to keep to send a copy of the data and not the data itself\n",
    "# Anyway, the function works as expected. Let's apply it to the data"
   ]
  }
 ],
 "metadata": {
  "kernelspec": {
   "display_name": "HK_PPI",
   "language": "python",
   "name": "python3"
  },
  "language_info": {
   "codemirror_mode": {
    "name": "ipython",
    "version": 3
   },
   "file_extension": ".py",
   "mimetype": "text/x-python",
   "name": "python",
   "nbconvert_exporter": "python",
   "pygments_lexer": "ipython3",
   "version": "3.10.13"
  }
 },
 "nbformat": 4,
 "nbformat_minor": 2
}
