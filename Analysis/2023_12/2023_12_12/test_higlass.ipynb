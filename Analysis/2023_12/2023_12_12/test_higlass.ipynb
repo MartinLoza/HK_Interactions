{
 "cells": [
  {
   "cell_type": "code",
   "execution_count": 28,
   "metadata": {},
   "outputs": [],
   "source": [
    "from higlass.tilesets import cooler\n",
    "# Load the cooler file\n",
    "# file_path = \"/Volumes/MARTIN_LOZA/Projects/HK_Interactions/Data/HiC/SRA/mcool/GM12878-HindIII-allReps-filtered.mcool\"\n",
    "file_path =\"/Users/martin/Documents/Projects/HK_Interactions/Analysis/2023_12/2023_12_26/Results/hicGlass/average.mcool\"\n",
    "\n",
    "# create tileset\n",
    "tileset_hic = cooler(file_path)\n",
    "\n",
    "#View configuration\n",
    "# view_config = {\n",
    "#     'width': 6,\n",
    "#     'initialXDomain': nyc_x,\n",
    "#     'initialYDomain': nyc_y,\n",
    "# }\n",
    "\n",
    "\n",
    "\n",
    "\n",
    "\n",
    "\n",
    "\n",
    "# # Create a track\n",
    "# track = tileset.track(\"heatmap\")\n",
    "\n",
    "# # Create a view\n",
    "# view = hg.view(track)\n",
    "# display(view)"
   ]
  },
  {
   "cell_type": "code",
   "execution_count": null,
   "metadata": {},
   "outputs": [],
   "source": [
    "from higlass.tilesets import cooler\n",
    "# Load the cooler file\n",
    "# file_path = \"/Volumes/MARTIN_LOZA/Projects/HK_Interactions/Data/HiC/SRA/mcool/GM12878-HindIII-allReps-filtered.mcool\"\n",
    "file_path =\"/Users/martin/Documents/Projects/HK_Interactions/Analysis/2023_12/2023_12_26/Results/hicGlass/average.mcool\"\n",
    "\n",
    "# create tileset\n",
    "tileset_hic = cooler(file_path)"
   ]
  },
  {
   "cell_type": "code",
   "execution_count": 29,
   "metadata": {},
   "outputs": [
    {
     "ename": "ImportError",
     "evalue": "cannot import name 'display' from 'higlass' (/Users/martin/miniconda3/envs/HK_PPI/lib/python3.10/site-packages/higlass/__init__.py)",
     "output_type": "error",
     "traceback": [
      "\u001b[0;31m---------------------------------------------------------------------------\u001b[0m",
      "\u001b[0;31mImportError\u001b[0m                               Traceback (most recent call last)",
      "Cell \u001b[0;32mIn[29], line 1\u001b[0m\n\u001b[0;32m----> 1\u001b[0m \u001b[38;5;28;01mfrom\u001b[39;00m \u001b[38;5;21;01mhiglass\u001b[39;00m \u001b[38;5;28;01mimport\u001b[39;00m Track, View, display\n\u001b[1;32m      3\u001b[0m view_config \u001b[38;5;241m=\u001b[39m {\n\u001b[1;32m      4\u001b[0m     \u001b[38;5;124m'\u001b[39m\u001b[38;5;124mwidth\u001b[39m\u001b[38;5;124m'\u001b[39m: \u001b[38;5;241m6\u001b[39m,\n\u001b[1;32m      5\u001b[0m     \u001b[38;5;124m'\u001b[39m\u001b[38;5;124minitialXDomain\u001b[39m\u001b[38;5;124m'\u001b[39m: nyc_x,\n\u001b[1;32m      6\u001b[0m     \u001b[38;5;124m'\u001b[39m\u001b[38;5;124minitialYDomain\u001b[39m\u001b[38;5;124m'\u001b[39m: nyc_y,\n\u001b[1;32m      7\u001b[0m }\n\u001b[1;32m      9\u001b[0m hic_view \u001b[38;5;241m=\u001b[39m View(\n\u001b[1;32m     10\u001b[0m     x\u001b[38;5;241m=\u001b[39m\u001b[38;5;241m0\u001b[39m,\n\u001b[1;32m     11\u001b[0m     tracks\u001b[38;5;241m=\u001b[39m[Track(\u001b[38;5;124m'\u001b[39m\u001b[38;5;124mheatmap\u001b[39m\u001b[38;5;124m'\u001b[39m, tileset\u001b[38;5;241m=\u001b[39mtileset_hic, height\u001b[38;5;241m=\u001b[39m\u001b[38;5;241m400\u001b[39m)],\n\u001b[1;32m     12\u001b[0m     \u001b[38;5;241m*\u001b[39m\u001b[38;5;241m*\u001b[39mview_config\n\u001b[1;32m     13\u001b[0m )\n",
      "\u001b[0;31mImportError\u001b[0m: cannot import name 'display' from 'higlass' (/Users/martin/miniconda3/envs/HK_PPI/lib/python3.10/site-packages/higlass/__init__.py)"
     ]
    }
   ],
   "source": [
    "import higlass as hg\n",
    "\n",
    "view_config = {\n",
    "    'width': 6,\n",
    "    'initialXDomain': nyc_x,\n",
    "    'initialYDomain': nyc_y,\n",
    "}\n",
    "\n",
    "hic_view = hg.View(\n",
    "    x=0,\n",
    "    tracks=[Track('heatmap', tileset=tileset_hic, height=400)],\n",
    "    **view_config\n",
    ")\n",
    "\n",
    "# dropoffs_view = View(\n",
    "#     x=6,\n",
    "#     tracks=[Track('heatmap', tileset=dropoff, height=400, server=API_URL)],\n",
    "#     **view_config\n",
    "# )\n",
    "\n",
    "widget, server, viewconf = display([pickups_view, dropoffs_view], \n",
    "                                   host=HOST, server_port=PORT)\n",
    "\n",
    "widget"
   ]
  },
  {
   "cell_type": "code",
   "execution_count": 12,
   "metadata": {},
   "outputs": [
    {
     "ename": "ValidationError",
     "evalue": "6 validation errors for CombinedTrack\ncontents -> 0 -> type\n  field required (type=value_error.missing)\ncontents -> 0 -> type\n  field required (type=value_error.missing)\ncontents -> 0 -> contents\n  field required (type=value_error.missing)\ncontents -> 0 -> type\n  field required (type=value_error.missing)\ncontents -> 0 -> type\n  field required (type=value_error.missing)\ncontents -> 0 -> type\n  field required (type=value_error.missing)",
     "output_type": "error",
     "traceback": [
      "\u001b[0;31m---------------------------------------------------------------------------\u001b[0m",
      "\u001b[0;31mValidationError\u001b[0m                           Traceback (most recent call last)",
      "Cell \u001b[0;32mIn[12], line 46\u001b[0m\n\u001b[1;32m     39\u001b[0m track \u001b[38;5;241m=\u001b[39m tileset\u001b[38;5;241m.\u001b[39mtrack(\u001b[38;5;124m\"\u001b[39m\u001b[38;5;124mheatmap\u001b[39m\u001b[38;5;124m\"\u001b[39m)\n\u001b[1;32m     41\u001b[0m \u001b[38;5;66;03m# Create a view\u001b[39;00m\n\u001b[1;32m     42\u001b[0m \u001b[38;5;66;03m# view = hg.view(track)\u001b[39;00m\n\u001b[1;32m     43\u001b[0m \u001b[38;5;66;03m# display(view)\u001b[39;00m\n\u001b[1;32m     44\u001b[0m \n\u001b[1;32m     45\u001b[0m \u001b[38;5;66;03m#Combine \u001b[39;00m\n\u001b[0;32m---> 46\u001b[0m combined_track \u001b[38;5;241m=\u001b[39m \u001b[43mhg\u001b[49m\u001b[38;5;241;43m.\u001b[39;49m\u001b[43mcombine\u001b[49m\u001b[43m(\u001b[49m\n\u001b[1;32m     47\u001b[0m \u001b[43m    \u001b[49m\u001b[43mview_genes\u001b[49m\u001b[43m,\u001b[49m\n\u001b[1;32m     48\u001b[0m \u001b[43m    \u001b[49m\u001b[43mtrack\u001b[49m\n\u001b[1;32m     49\u001b[0m \u001b[43m)\u001b[49m\n\u001b[1;32m     51\u001b[0m hg\u001b[38;5;241m.\u001b[39mview(combined_track)\n",
      "File \u001b[0;32m~/miniconda3/envs/HK_PPI/lib/python3.10/site-packages/higlass/api.py:816\u001b[0m, in \u001b[0;36mcombine\u001b[0;34m(t1, t2, uid, **kwargs)\u001b[0m\n\u001b[1;32m    813\u001b[0m         \u001b[38;5;28msetattr\u001b[39m(copy, key, val)\n\u001b[1;32m    814\u001b[0m     \u001b[38;5;28;01mreturn\u001b[39;00m copy\n\u001b[0;32m--> 816\u001b[0m \u001b[38;5;28;01mreturn\u001b[39;00m \u001b[43mCombinedTrack\u001b[49m\u001b[43m(\u001b[49m\n\u001b[1;32m    817\u001b[0m \u001b[43m    \u001b[49m\u001b[38;5;28;43mtype\u001b[39;49m\u001b[38;5;241;43m=\u001b[39;49m\u001b[38;5;124;43m\"\u001b[39;49m\u001b[38;5;124;43mcombined\u001b[39;49m\u001b[38;5;124;43m\"\u001b[39;49m\u001b[43m,\u001b[49m\n\u001b[1;32m    818\u001b[0m \u001b[43m    \u001b[49m\u001b[43muid\u001b[49m\u001b[38;5;241;43m=\u001b[39;49m\u001b[43muid\u001b[49m\u001b[43m,\u001b[49m\n\u001b[1;32m    819\u001b[0m \u001b[43m    \u001b[49m\u001b[43mcontents\u001b[49m\u001b[38;5;241;43m=\u001b[39;49m\u001b[43m[\u001b[49m\u001b[43mtrack\u001b[49m\u001b[38;5;241;43m.\u001b[39;49m\u001b[38;5;18;43m__class__\u001b[39;49m\u001b[43m(\u001b[49m\u001b[38;5;241;43m*\u001b[39;49m\u001b[38;5;241;43m*\u001b[39;49m\u001b[43mtrack\u001b[49m\u001b[38;5;241;43m.\u001b[39;49m\u001b[43mdict\u001b[49m\u001b[43m(\u001b[49m\u001b[43m)\u001b[49m\u001b[43m)\u001b[49m\u001b[43m \u001b[49m\u001b[38;5;28;43;01mfor\u001b[39;49;00m\u001b[43m \u001b[49m\u001b[43mtrack\u001b[49m\u001b[43m \u001b[49m\u001b[38;5;129;43;01min\u001b[39;49;00m\u001b[43m \u001b[49m\u001b[43m(\u001b[49m\u001b[43mt1\u001b[49m\u001b[43m,\u001b[49m\u001b[43m \u001b[49m\u001b[43mt2\u001b[49m\u001b[43m)\u001b[49m\u001b[43m]\u001b[49m\u001b[43m,\u001b[49m\n\u001b[1;32m    820\u001b[0m \u001b[43m    \u001b[49m\u001b[38;5;241;43m*\u001b[39;49m\u001b[38;5;241;43m*\u001b[39;49m\u001b[43mkwargs\u001b[49m\u001b[43m,\u001b[49m\n\u001b[1;32m    821\u001b[0m \u001b[43m\u001b[49m\u001b[43m)\u001b[49m\n",
      "File \u001b[0;32m~/miniconda3/envs/HK_PPI/lib/python3.10/site-packages/pydantic/main.py:341\u001b[0m, in \u001b[0;36mpydantic.main.BaseModel.__init__\u001b[0;34m()\u001b[0m\n",
      "\u001b[0;31mValidationError\u001b[0m: 6 validation errors for CombinedTrack\ncontents -> 0 -> type\n  field required (type=value_error.missing)\ncontents -> 0 -> type\n  field required (type=value_error.missing)\ncontents -> 0 -> contents\n  field required (type=value_error.missing)\ncontents -> 0 -> type\n  field required (type=value_error.missing)\ncontents -> 0 -> type\n  field required (type=value_error.missing)\ncontents -> 0 -> type\n  field required (type=value_error.missing)"
     ]
    }
   ],
   "source": [
    "import higlass as hg\n",
    "\n",
    "genes = hg.remote(\n",
    "    uid=\"QDutvmyiSrec5nX4pA5WGQ\",\n",
    "    server=\"//higlass.io/api/v1\",\n",
    ")\n",
    "\n",
    "view_genes = hg.view(\n",
    "\n",
    "    genes.track(\"gene-annotations\",height=150).opts(\n",
    "        minHeight = 24,\n",
    "    ),\n",
    "    genomePositionSearchBox = hg.GenomePositionSearchBox(\n",
    "        autocompleteServer=\"//higlass.io/api/v1\",\n",
    "        autocompleteId=\"OHJakQICQD6gTD7skx4EWA\",\n",
    "        chromInfoId=\"hg19\",\n",
    "        chromInfoServer=\"//higlass.io/api/v1\",\n",
    "        visible=True)\n",
    ")\n",
    "\n",
    "#In order to get access to track sources from higlass.io data sources\n",
    "list_of_track_source_servers = [\n",
    "    \"//higlass.io/api/v1\",\n",
    "    \"https://resgen.io/api/v1/gt/paper-data\"\n",
    "  ]\n",
    "\n",
    "view_genes.viewconf(trackSourceServers = list_of_track_source_servers, exportViewUrl = \"/api/v1/viewconfs\")\n",
    "\n",
    "\n",
    "# Load the cooler file\n",
    "# file_path = \"/Volumes/MARTIN_LOZA/Projects/HK_Interactions/Data/HiC/SRA/mcool/GM12878-HindIII-allReps-filtered.mcool\"\n",
    "file_path =\"/Users/martin/Documents/Projects/HK_Interactions/Analysis/2023_12/2023_12_26/Results/hicGlass/average.mcool\"\n",
    "tileset = hg.cooler(file_path)\n",
    "\n",
    "\n",
    "# Create a track\n",
    "track = tileset.track(\"heatmap\")\n",
    "\n",
    "# Create a view\n",
    "# view = hg.view(track)\n",
    "# display(view)\n",
    "\n",
    "\n",
    "\n",
    "    \n",
    "\n",
    "    "
   ]
  },
  {
   "cell_type": "code",
   "execution_count": 17,
   "metadata": {},
   "outputs": [],
   "source": [
    "from higlass import Tileset\n"
   ]
  }
 ],
 "metadata": {
  "kernelspec": {
   "display_name": "HK_PPI",
   "language": "python",
   "name": "python3"
  },
  "language_info": {
   "codemirror_mode": {
    "name": "ipython",
    "version": 3
   },
   "file_extension": ".py",
   "mimetype": "text/x-python",
   "name": "python",
   "nbconvert_exporter": "python",
   "pygments_lexer": "ipython3",
   "version": "3.10.13"
  }
 },
 "nbformat": 4,
 "nbformat_minor": 2
}
