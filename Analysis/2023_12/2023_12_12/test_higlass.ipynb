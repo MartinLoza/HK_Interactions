{
 "cells": [
  {
   "cell_type": "code",
   "execution_count": null,
   "metadata": {},
   "outputs": [],
   "source": [
    "import higlass as hg\n",
    "\n",
    "# Remote data source (tileset)\n",
    "tileset1 = hg.remote(\n",
    "    uid=\"CQMd6V_cRw6iCI_-Unl3PQ\",\n",
    "    server=\"https://higlass.io/api/v1/\",\n",
    "    name=\"Rao et al. (2014) GM12878 MboI (allreps) 1kb\",\n",
    ")\n",
    "\n",
    "# Local tileset\n",
    "tileset2 = hg.cooler(\"/Volumes/MARTIN_LOZA/Projects/HK_Interactions/Data/HiC/SRA/mcool/GM12878-HindIII-allReps-filtered.mcool\")\n",
    "\n",
    "# Create a `hg.HeatmapTrack` for each tileset\n",
    "track1 = tileset1.track(\"heatmap\")\n",
    "track2 = tileset2.track(\"heatmap\")\n",
    "\n",
    "# Create two independent `hg.View`s, one for each heatmap\n",
    "view1 = hg.view(track1, width=6)\n",
    "view2 = hg.view(track2, width=6)\n",
    "\n",
    "# Lock zoom & location for each `View`\n",
    "view_lock = hg.lock(view1, view2)\n",
    "\n",
    "# Concatenate views horizontally and apply synchronization lock\n",
    "(view1 | view2).locks(view_lock)"
   ]
  },
  {
   "cell_type": "code",
   "execution_count": null,
   "metadata": {},
   "outputs": [],
   "source": [
    "import higlass\n",
    "\n",
    "# Load the cooler file\n",
    "file_path = \"/Volumes/MARTIN_LOZA/Projects/HK_Interactions/Data/HiC/SRA/mcool/GM12878-HindIII-allReps-filtered.mcool\"\n",
    "tileset = higlass.tilesets.cooler(file_path)\n",
    "\n",
    "# Create a track\n",
    "track = Track('heatmap', tileset=tileset)\n",
    "\n",
    "# Create a view\n",
    "view = View([track])\n",
    "\n",
    "# Create a HiGlass display\n",
    "display = higlass.Display([view])\n",
    "\n",
    "# Start a HiGlass server and open it in a web browser\n",
    "server = higlass.Server([display])\n",
    "server.open()"
   ]
  },
  {
   "cell_type": "code",
   "execution_count": 4,
   "metadata": {},
   "outputs": [
    {
     "data": {
      "text/html": [
       "\n",
       "<!DOCTYPE html>\n",
       "<html>\n",
       "  <head>\n",
       "    <link rel=\"stylesheet\" href=\"https://esm.sh/higlass@1.12/dist/hglib.css\">\n",
       "    <script src=\"https://unpkg.com/requirejs-toggle\"></script>\n",
       "    \n",
       "    <script src=\"https://unpkg.com/requirejs-toggle\"></script>\n",
       "  </head>\n",
       "  <body>\n",
       "    <div id=\"jupyter-hg-012c0310324b4b8995e6cc99c5391c9a\"></div>\n",
       "  </body>\n",
       "  <script type=\"module\">\n",
       "    import hglib from \"https://esm.sh/higlass@1.12?deps=react@17,react-dom@17,pixi.js@6\";\n",
       "    hglib.viewer(\n",
       "      document.getElementById('jupyter-hg-012c0310324b4b8995e6cc99c5391c9a'),\n",
       "      {\"editable\": true, \"viewEditable\": true, \"tracksEditable\": true, \"views\": [{\"layout\": {\"x\": 0, \"y\": 0, \"w\": 12, \"h\": 6}, \"tracks\": {\"center\": [{\"tilesetUid\": \"9eedfe2feafbec322b6cf66ec351d7da\", \"server\": \"http://localhost:54164/tilesets/api/v1/\", \"type\": \"heatmap\", \"uid\": \"f2ae7c35-aefb-4842-b148-f4d673a0917a\"}]}, \"uid\": \"261826ff-2485-4960-a0c0-b9e06422fb0e\", \"zoomLimits\": [1, null]}]},\n",
       "    );\n",
       "    </script>\n",
       "</html>"
      ],
      "text/plain": [
       "View(layout=Layout(x=0, y=0, w=12, h=6, moved=None, static=None), tracks=Tracks[TrackT](left=None, right=None, top=None, bottom=None, center=[HeatmapTrack(tilesetUid='9eedfe2feafbec322b6cf66ec351d7da', server='http://localhost:54164/tilesets/api/v1/', type='heatmap', uid='f2ae7c35-aefb-4842-b148-f4d673a0917a', width=None, height=None, options=None, data=None, position=None, transforms=None)], whole=None, gallery=None), uid='261826ff-2485-4960-a0c0-b9e06422fb0e', autocompleteSource=None, chromInfoPath=None, genomePositionSearchBox=None, genomePositionSearchBoxVisible=None, initialXDomain=None, initialYDomain=None, overlays=None, selectionView=None, zoomFixed=None, zoomLimits=(1, None))"
      ]
     },
     "metadata": {},
     "output_type": "display_data"
    }
   ],
   "source": [
    "# from IPython.core.display import display, HTML\n",
    "# display(HTML(\"<style>.container { width:100% !important; }</style>\"))\n",
    "\n",
    "import higlass as hg\n",
    "\n",
    "# Load the cooler file\n",
    "file_path = \"/Volumes/MARTIN_LOZA/Projects/HK_Interactions/Data/HiC/SRA/mcool/GM12878-HindIII-allReps-filtered.mcool\"\n",
    "tileset = hg.cooler(file_path)\n",
    "\n",
    "\n",
    "# Create a track\n",
    "track = tileset.track()\n",
    "\n",
    "# Create a view\n",
    "view = hg.view(track)\n",
    "display(view)\n",
    "\n",
    "\n",
    "\n",
    "    \n",
    "\n",
    "    "
   ]
  }
 ],
 "metadata": {
  "kernelspec": {
   "display_name": "HK_PPI",
   "language": "python",
   "name": "python3"
  },
  "language_info": {
   "codemirror_mode": {
    "name": "ipython",
    "version": 3
   },
   "file_extension": ".py",
   "mimetype": "text/x-python",
   "name": "python",
   "nbconvert_exporter": "python",
   "pygments_lexer": "ipython3",
   "version": "3.10.13"
  }
 },
 "nbformat": 4,
 "nbformat_minor": 2
}
