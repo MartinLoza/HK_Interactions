{
 "cells": [
  {
   "cell_type": "markdown",
   "metadata": {},
   "source": [
    "In this notebook I would like to start using HiGlass to visualize my data"
   ]
  },
  {
   "cell_type": "code",
   "execution_count": 1,
   "metadata": {},
   "outputs": [],
   "source": [
    "import higlass as hg"
   ]
  },
  {
   "cell_type": "code",
   "execution_count": 2,
   "metadata": {},
   "outputs": [],
   "source": [
    "file_path =\"/Users/martin/Documents/Projects/HK_Interactions/Analysis/2023_12/2023_12_26/Results/hicGlass/average.mcool\"\n",
    "\n",
    "# create tileset\n",
    "tileset_hic = hg.cooler(file_path)"
   ]
  },
  {
   "cell_type": "code",
   "execution_count": 10,
   "metadata": {},
   "outputs": [
    {
     "data": {
      "text/html": [
       "\n",
       "<!DOCTYPE html>\n",
       "<html>\n",
       "  <head>\n",
       "    <link rel=\"stylesheet\" href=\"https://esm.sh/higlass@1.12/dist/hglib.css\">\n",
       "    <script src=\"https://unpkg.com/requirejs-toggle\"></script>\n",
       "    \n",
       "    <script src=\"https://unpkg.com/requirejs-toggle\"></script>\n",
       "  </head>\n",
       "  <body>\n",
       "    <div id=\"jupyter-hg-0c1124a0167b40a7961f7cf0c5781bf1\"></div>\n",
       "  </body>\n",
       "  <script type=\"module\">\n",
       "    import hglib from \"https://esm.sh/higlass@1.12?deps=react@17,react-dom@17,pixi.js@6\";\n",
       "    hglib.viewer(\n",
       "      document.getElementById('jupyter-hg-0c1124a0167b40a7961f7cf0c5781bf1'),\n",
       "      {\"editable\": true, \"viewEditable\": true, \"tracksEditable\": true, \"views\": [{\"layout\": {\"x\": 0, \"y\": 0, \"w\": 12, \"h\": 6}, \"tracks\": {\"center\": [{\"tilesetUid\": \"4b9b9606f62756357751075e560a574a\", \"server\": \"http://localhost:55601/tilesets/api/v1/\", \"type\": \"heatmap\", \"uid\": \"b3c57f46-2f1e-4005-82cf-70edd61edd27\"}]}, \"uid\": \"3dcfbef9-6260-44f2-be44-257a43ce3575\", \"zoomLimits\": [1, null]}]},\n",
       "    );\n",
       "    </script>\n",
       "</html>"
      ],
      "text/plain": [
       "View(layout=Layout(x=0, y=0, w=12, h=6, moved=None, static=None), tracks=Tracks[TrackT](left=None, right=None, top=None, bottom=None, center=[HeatmapTrack(tilesetUid='4b9b9606f62756357751075e560a574a', server='http://localhost:55601/tilesets/api/v1/', type='heatmap', uid='b3c57f46-2f1e-4005-82cf-70edd61edd27', width=None, height=None, options=None, data=None, position=None, transforms=None)], whole=None, gallery=None), uid='3dcfbef9-6260-44f2-be44-257a43ce3575', autocompleteSource=None, chromInfoPath=None, genomePositionSearchBox=None, genomePositionSearchBoxVisible=None, initialXDomain=None, initialYDomain=None, overlays=None, selectionView=None, zoomFixed=None, zoomLimits=(1, None))"
      ]
     },
     "metadata": {},
     "output_type": "display_data"
    }
   ],
   "source": [
    "# Create a `hg.HeatmapTrack` for the tileset\n",
    "track_hic = tileset_hic.track(\"heatmap\")\n",
    "\n",
    "#view the track\n",
    "view = hg.view(track_hic)\n",
    "display(view)"
   ]
  },
  {
   "cell_type": "code",
   "execution_count": 9,
   "metadata": {},
   "outputs": [
    {
     "data": {
      "text/html": [
       "\n",
       "<!DOCTYPE html>\n",
       "<html>\n",
       "  <head>\n",
       "    <link rel=\"stylesheet\" href=\"https://esm.sh/higlass@1.12/dist/hglib.css\">\n",
       "    <script src=\"https://unpkg.com/requirejs-toggle\"></script>\n",
       "    \n",
       "    <script src=\"https://unpkg.com/requirejs-toggle\"></script>\n",
       "  </head>\n",
       "  <body>\n",
       "    <div id=\"jupyter-hg-6428c4b44ba54ef881adbe645c92593a\"></div>\n",
       "  </body>\n",
       "  <script type=\"module\">\n",
       "    import hglib from \"https://esm.sh/higlass@1.12?deps=react@17,react-dom@17,pixi.js@6\";\n",
       "    hglib.viewer(\n",
       "      document.getElementById('jupyter-hg-6428c4b44ba54ef881adbe645c92593a'),\n",
       "      {\"editable\": true, \"viewEditable\": true, \"tracksEditable\": true, \"views\": [{\"layout\": {\"x\": 0, \"y\": 0, \"w\": 12, \"h\": 6}, \"tracks\": {\"top\": [{\"tilesetUid\": \"QDutvmyiSrec5nX4pA5WGQ\", \"server\": \"//higlass.io/api/v1\", \"type\": \"gene-annotations\", \"uid\": \"1d5abd7b-e845-40ef-8357-40934850d1b2\", \"height\": 150, \"options\": {\"minHeight\": 24}}], \"center\": [{\"tilesetUid\": \"4b9b9606f62756357751075e560a574a\", \"server\": \"http://localhost:55601/tilesets/api/v1/\", \"type\": \"heatmap\", \"uid\": \"e67f2739-27fa-4cf1-a008-1e47b09d67e0\"}]}, \"uid\": \"9b49d10c-651f-4bab-becb-fcbd8668df02\", \"zoomLimits\": [1, null]}]},\n",
       "    );\n",
       "    </script>\n",
       "</html>"
      ],
      "text/plain": [
       "View(layout=Layout(x=0, y=0, w=12, h=6, moved=None, static=None), tracks=Tracks[TrackT](left=None, right=None, top=[EnumTrack(tilesetUid='QDutvmyiSrec5nX4pA5WGQ', server='//higlass.io/api/v1', type='gene-annotations', uid='1d5abd7b-e845-40ef-8357-40934850d1b2', width=None, height=150, options={'minHeight': 24}, data=None, chromInfoPath=None, fromViewUid=None, x=None, y=None)], bottom=None, center=[HeatmapTrack(tilesetUid='4b9b9606f62756357751075e560a574a', server='http://localhost:55601/tilesets/api/v1/', type='heatmap', uid='e67f2739-27fa-4cf1-a008-1e47b09d67e0', width=None, height=None, options=None, data=None, position=None, transforms=None)], whole=None, gallery=None), uid='9b49d10c-651f-4bab-becb-fcbd8668df02', autocompleteSource=None, chromInfoPath=None, genomePositionSearchBox=None, genomePositionSearchBoxVisible=None, initialXDomain=None, initialYDomain=None, overlays=None, selectionView=None, zoomFixed=None, zoomLimits=(1, None))"
      ]
     },
     "metadata": {},
     "output_type": "display_data"
    }
   ],
   "source": [
    "genes = hg.remote(\n",
    "    uid=\"QDutvmyiSrec5nX4pA5WGQ\",\n",
    "    server=\"//higlass.io/api/v1\",\n",
    ")\n",
    "genes_track = genes.track(\"gene-annotations\",height=150).opts(\n",
    "        minHeight = 24\n",
    ")\n",
    "\n",
    "view = hg.view(\n",
    "    \n",
    "    (genes_track, \"top\"),\n",
    "    (track_hic)\n",
    "    # genomePositionSearchBox = hg.GenomePositionSearchBox(\n",
    "    #     autocompleteServer=\"//higlass.io/api/v1\",\n",
    "    #     autocompleteId=\"OHJakQICQD6gTD7skx4EWA\",\n",
    "    #     chromInfoId=\"hg38\",\n",
    "    #     chromInfoServer=\"//higlass.io/api/v1\",\n",
    "    #     visible=True)\n",
    ")\n",
    "\n",
    "display(view)\n",
    "\n"
   ]
  },
  {
   "cell_type": "code",
   "execution_count": null,
   "metadata": {},
   "outputs": [],
   "source": []
  }
 ],
 "metadata": {
  "kernelspec": {
   "display_name": "Python 3 (ipykernel)",
   "language": "python",
   "name": "python3"
  },
  "language_info": {
   "codemirror_mode": {
    "name": "ipython",
    "version": 3
   },
   "file_extension": ".py",
   "mimetype": "text/x-python",
   "name": "python",
   "nbconvert_exporter": "python",
   "pygments_lexer": "ipython3",
   "version": "3.10.13"
  },
  "varInspector": {
   "cols": {
    "lenName": 16,
    "lenType": 16,
    "lenVar": 40
   },
   "kernels_config": {
    "python": {
     "delete_cmd_postfix": "",
     "delete_cmd_prefix": "del ",
     "library": "var_list.py",
     "varRefreshCmd": "print(var_dic_list())"
    },
    "r": {
     "delete_cmd_postfix": ") ",
     "delete_cmd_prefix": "rm(",
     "library": "var_list.r",
     "varRefreshCmd": "cat(var_dic_list()) "
    }
   },
   "types_to_exclude": [
    "module",
    "function",
    "builtin_function_or_method",
    "instance",
    "_Feature"
   ],
   "window_display": false
  }
 },
 "nbformat": 4,
 "nbformat_minor": 2
}
